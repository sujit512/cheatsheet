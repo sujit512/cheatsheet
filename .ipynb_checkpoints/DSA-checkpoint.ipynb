{
 "cells": [
  {
   "cell_type": "markdown",
   "metadata": {},
   "source": [
    "# Contents:"
   ]
  },
  {
   "cell_type": "markdown",
   "metadata": {},
   "source": [
    "Topics and Problems: https://discuss.codechef.com/t/programming-contest-detailed-syllabus-along-with-example-problems/17791"
   ]
  },
  {
   "cell_type": "markdown",
   "metadata": {},
   "source": [
    "### All topics"
   ]
  },
  {
   "cell_type": "markdown",
   "metadata": {},
   "source": [
    "- Binary Search with first and last occurances \n",
    "- Ternary Search\n",
    "- Quick sort\n",
    "- Merge sort\n",
    "- DFS & BFS\n",
    "- Connected components\n",
    "- Topological sorting\n",
    "- Least common ancestor\n",
    "- Dijkstra’s shortest path\n",
    "- Bellman Ford shortest path\n",
    "- Floyd Warshall all pair shortest path\n",
    "- Prim's MST\n",
    "- KMP string matching\n",
    "- Sieve of Eratosthenes: prime generation\n",
    "- Extended Euclidean Algorithm for inverse\n",
    "- Miller–Rabin Primality test\n",
    "- Integer Factorization\n",
    "- Fast Fourier Transform (FFT)\n",
    "- Gaussian Elimination\n",
    "- Roots of a polynomial\n",
    "- Backtracking: N queens problem\n",
    "- Priority Queue (Heap)\n",
    "- Disjoint set union\n",
    "- Segment tree\n",
    "- Segment tree with lazy propagation\n",
    "- Persistent Segment tree\n",
    "- Binary indexed tree (Fenwick Tree)\n",
    "- Range minimum Query (RMQ)\n",
    "- Heavy Light Decomposition\n",
    "- MO’s Algorithm (Query Square Root Decomposition)\n",
    "- Centroid Decomposition\n",
    "- Suffix tree\n",
    "- Suffix array\n",
    "- Trie\n",
    "- Treaps"
   ]
  },
  {
   "cell_type": "markdown",
   "metadata": {},
   "source": [
    "### Covered topics:"
   ]
  },
  {
   "cell_type": "markdown",
   "metadata": {},
   "source": [
    "- Priority Queue\n",
    "- Disjoint set union\n",
    "- Segment Tree and Range Max Query\n",
    "- Segment tree with lazy propagation\n",
    "- Binary Indexed Tree and Range Sum Query\n",
    "- Trie\n",
    "- Suffix Tree\n",
    "- Suffix Array\n",
    "- Binary Search for first and last occurences\n",
    "- Merge Sort\n",
    "- Quick Sort\n",
    "- Quick Select (kth order stats)\n",
    "- DFS: recursive\n",
    "- DFS: stack\n",
    "- BFS: queue\n",
    "- Connected Componets of graph\n",
    "- Single source distance with BFS\n",
    "- Lowest Common Ancestor: Binary Tree\n",
    "- Lowest Common Ancestor: Binary Search Tree\n",
    "- Dynamic Programming: Matrix chain multiplication\n",
    "- Dynamic Programming: Coin change\n",
    "- Dynamic Programming: Binary Knapsack\n",
    "- Dynamic Programming: Longest Increasing Subsequence\n",
    "- Kadane's algorithm for Max Sum Subarray\n",
    "- Josephus problem\n",
    "- GCD and LCM\n",
    "- Sieve of Eratosthenes to generate primes\n",
    "- Backtracking: N queens problem\n",
    "- Tree Traversals\n",
    "- Maximum Vote Algorithm"
   ]
  },
  {
   "cell_type": "markdown",
   "metadata": {},
   "source": [
    "# Priority Queue"
   ]
  },
  {
   "cell_type": "code",
   "execution_count": 1,
   "metadata": {},
   "outputs": [
    {
     "name": "stdout",
     "output_type": "stream",
     "text": [
      "[5, 10]\n",
      "[10]\n",
      "[1, 4, 5, 7]\n"
     ]
    }
   ],
   "source": [
    "import heapq              ## library for minheap piority queue\n",
    "pq=[]                 \n",
    "heapq.heappush(pq, 10)    ## insert 10 in pq, it uses minheap. if you want, maxheap insert -10\n",
    "heapq.heappush(pq, 5)   \n",
    "print(pq)                  ## print pq in sorted order (minheap)\n",
    "x= heapq.heappop(pq)      ## deletes minimum element\n",
    "print(pq)\n",
    "pq2 = [5, 4, 1, 7]  \n",
    "heapq.heapify(pq2)        ## creates minheap (priority queue) from the list\n",
    "print(pq2)"
   ]
  },
  {
   "cell_type": "markdown",
   "metadata": {},
   "source": [
    "# Disjoint set union"
   ]
  },
  {
   "cell_type": "code",
   "execution_count": null,
   "metadata": {},
   "outputs": [],
   "source": []
  },
  {
   "cell_type": "markdown",
   "metadata": {},
   "source": [
    "# Segment Tree and Range Max Query"
   ]
  },
  {
   "cell_type": "code",
   "execution_count": 60,
   "metadata": {},
   "outputs": [
    {
     "name": "stdout",
     "output_type": "stream",
     "text": [
      "[5, 18, 13, 22, 74, 100, 3, 101]\n",
      "74\n",
      "101\n",
      "22\n"
     ]
    }
   ],
   "source": [
    "## https://www.hackerearth.com/practice/data-structures/advanced-data-structures/segment-trees/tutorial/\n",
    "N= 10   \n",
    "tree= [-1]*(3*N)         ## initialize tree of 3N nodes with -1 \n",
    "arr= [5, 18, 13, 22, 74, 100, 3, 101]\n",
    "\n",
    "def build_tree(node, a, b): \n",
    "    if a>b: return               \n",
    "    if a==b: \n",
    "        tree[node]= arr[a]             \n",
    "        return\n",
    "    build_tree(node*2, a, (a+b)//2)      \n",
    "    build_tree(node*2+1, 1+(a+b)//2, b)   \n",
    "    tree[node]= max(tree[node*2],tree[node*2+1])  ## merge result of left and right\n",
    "\n",
    "def update_tree(node, a, b, i, j, value):\n",
    "    if a>b or a>j or b<i: return\n",
    "    if a==b:\n",
    "        tree[node]= value           \n",
    "        return\n",
    "    update_tree(node*2, a, (a+b)//2, i, j, value)    \n",
    "    update_tree(1+node*2, 1+(a+b)//2, b, i, j, value)  \n",
    "    tree[node]= max(tree[node*2],tree[node*2+1])   \n",
    "    \n",
    "def query_tree(node, a, b, i, j):\n",
    "    if a>b or a>j or b<i: return -1    ## unit of max function\n",
    "    if a>=i and b<=j: return tree[node]    \n",
    "    q1= query_tree(node*2, a, (a+b)//2, i, j) \n",
    "    q2= query_tree(1+node*2, 1+(a+b)//2, b, i, j) \n",
    "    return max(q1,q2)    \n",
    "\n",
    "print arr\n",
    "build_tree(1, 0, len(arr)-1)    ## tree node starts from 1\n",
    "print query_tree(1, 0, len(arr)-1, 1, 4)    ## find maximum in range 1 to 4\n",
    "print query_tree(1, 0, len(arr)-1, 5, 7)    ## find maximum in range 5 to 7\n",
    "update_tree(1, 0, len(arr)-1, 4, 7, 10)       ## make each element in range 4 to 7 as 10\n",
    "print query_tree(1, 0, len(arr)-1, 3, 6)    ## find maximum in range 3 to 6\n"
   ]
  },
  {
   "cell_type": "markdown",
   "metadata": {},
   "source": [
    "# Segment tree with lazy propagation"
   ]
  },
  {
   "cell_type": "code",
   "execution_count": 82,
   "metadata": {},
   "outputs": [],
   "source": [
    "## https://www.hackerearth.com/practice/notes/segment-tree-and-lazy-propagation/\n"
   ]
  },
  {
   "cell_type": "markdown",
   "metadata": {},
   "source": [
    "# Binary Indexed Tree and Range Sum Query"
   ]
  },
  {
   "cell_type": "code",
   "execution_count": 59,
   "metadata": {},
   "outputs": [
    {
     "name": "stdout",
     "output_type": "stream",
     "text": [
      "[2, 1, 1, 3, 2, 3, 4, 5, 6, 7, 8, 9]\n",
      "12\n",
      "[2, 1, 1, 9, 2, 3, 4, 5, 6, 7, 8, 9]\n",
      "5\n"
     ]
    }
   ],
   "source": [
    "## Binary indexed tree works only with additive functions, not with min or max\n",
    "# https://www.hackerearth.com/practice/data-structures/advanced-data-structures/fenwick-binary-indexed-trees/tutorial/\n",
    "def queryBIT(tree, i):        ## query in range 0 to i\n",
    "    s= 0                      \n",
    "    i= i+1                    ## increase index as BIT starts from index 1\n",
    "    while i>0:              \n",
    "        s += tree[i]          \n",
    "        i -= i & (-i)          ## go to its parent node\n",
    "    return s                \n",
    "\n",
    "def updateBIT(tree, n, i, v):  ## v is value to be added to ith element of arr\n",
    "    i+= 1                       ## increase index as BIT starts from index 1\n",
    "    while i<=n:                 \n",
    "        tree[i] += v           \n",
    "        i += i & (-i)           ## go to its child node for update\n",
    "        \n",
    "def buildBIT(arr, n):         \n",
    "    tree= [0]*(n+1)           ## tree has n+1 nodes initilized with 0\n",
    "    for i in range(n):          \n",
    "        updateBIT(tree, n, i, arr[i])   ## update BIT by adding arr[i] to ith element\n",
    "    return tree               \n",
    "\n",
    "arr= [2, 1, 1, 3, 2, 3, 4, 5, 6, 7, 8, 9]\n",
    "tree= buildBIT(arr, len(arr))     \n",
    "print arr\n",
    "print queryBIT(tree,5)           ## find sum of all values in range 0 to 5 of arr\n",
    "arr[3] += 6\n",
    "updateBIT(tree, len(arr), 3, 6)     ## add 6 into arr[3] and update BIT\n",
    "print arr                \n",
    "print queryBIT(tree,5)-queryBIT(tree,3)    ## find sum of all values in range 3 to 5 of arr\n"
   ]
  },
  {
   "cell_type": "markdown",
   "metadata": {},
   "source": [
    "# Trie"
   ]
  },
  {
   "cell_type": "code",
   "execution_count": 58,
   "metadata": {},
   "outputs": [
    {
     "name": "stdout",
     "output_type": "stream",
     "text": [
      "(True, 2)\n",
      "(True, 2)\n",
      "(False, 0)\n"
     ]
    }
   ],
   "source": [
    "# https://towardsdatascience.com/\n",
    "# implementing-a-trie-data-structure-in-python-in-less-than-100-lines-of-code-a877ea23c1a1\n",
    "class TrieNode:\n",
    "    def __init__(self, char):\n",
    "        self.char= char\n",
    "        self.children= []\n",
    "        self.word_finished= False\n",
    "        self.counter= 1 ## times this character appeared in addition\n",
    "        \n",
    "def add(root, word):\n",
    "    node= root\n",
    "    for char in word:\n",
    "        found_in_child= False\n",
    "        for child in node.children:   ## search for char in children of current node\n",
    "            if child.char == char:\n",
    "                child.counter += 1\n",
    "                node= child      ## point the node to child\n",
    "                found_in_child= True\n",
    "                break\n",
    "        if not found_in_child:\n",
    "            new_node= TrieNode(char)\n",
    "            node.children.append(new_node)\n",
    "            node= new_node    ## point the node to this node\n",
    "    node.word_finished= True\n",
    "\n",
    "def find_prefix(root, prefix):\n",
    "    node= root\n",
    "    if not root.children: return False, 0    ## empty trie\n",
    "    for char in prefix:\n",
    "        char_not_found= True\n",
    "        for child in node.children:     ## search through all children\n",
    "            if child.char == char:\n",
    "                char_not_found= False\n",
    "                node= child      ## assign node as child\n",
    "                break\n",
    "        if char_not_found: return False, 0\n",
    "    return True, node.counter\n",
    "\n",
    "root = TrieNode('*')\n",
    "add(root, 'hackathon')\n",
    "add(root, 'hack')\n",
    "print find_prefix(root, 'hac')\n",
    "print find_prefix(root, 'hack')\n",
    "print find_prefix(root, 'hammer')\n"
   ]
  },
  {
   "cell_type": "markdown",
   "metadata": {},
   "source": [
    "# Suffix Tree"
   ]
  },
  {
   "cell_type": "code",
   "execution_count": 81,
   "metadata": {},
   "outputs": [
    {
     "name": "stdout",
     "output_type": "stream",
     "text": [
      "+- \n",
      " +- -- banana$\n",
      " +- +- a\n",
      " |  +- +- na\n",
      " |  |  +- -- na$\n",
      " |  |  +- -- $\n",
      " |  +- -- $\n",
      " +- +- na\n",
      " |  +- -- na$\n",
      " |  +- -- $\n",
      " +- -- $\n"
     ]
    }
   ],
   "source": [
    "## A Suffix Tree for a given text is a compressed trie for all suffixes of the given text.\n",
    "## https://www.hackerearth.com/practice/data-structures/advanced-data-structures/suffix-trees/tutorial/\n",
    "class Node:\n",
    "    def __init__(self, sub=\"\", children=[]):\n",
    "        self.sub= sub\n",
    "        self.ch= children\n",
    "        \n",
    "class SuffixTree:\n",
    "    def __init__(self, str):\n",
    "        self.nodes = [Node()]\n",
    "        for i in range(len(str)):\n",
    "            self.addSuffix(str[i:])\n",
    "        \n",
    "    def addSuffix(self, suf):\n",
    "        n,i = 0,0\n",
    "        while i< len(suf):\n",
    "            b= suf[i]\n",
    "            x2= 0\n",
    "            while True:\n",
    "                children= self.nodes[n].ch\n",
    "                if x2 == len(children):      ## no matching child, remainder of suffix becomes new node\n",
    "                    n2= len(self.nodes)\n",
    "                    self.nodes.append(Node(suf[i:], []))\n",
    "                    self.nodes[n].ch.append(n2)\n",
    "                    return\n",
    "                n2= children[x2]\n",
    "                if self.nodes[n2].sub[0] == b: break\n",
    "                x2= x2+1\n",
    "            sub2= self.nodes[n2].sub         ## prefix of remaining suffix in common with child\n",
    "            j= 0\n",
    "            while j<len(sub2):\n",
    "                if suf[i + j] != sub2[j]:\n",
    "                    n3= n2                  ## split n2\n",
    "                    n2= len(self.nodes)          ## new node for the part in common\n",
    "                    self.nodes.append( Node(sub2[:j],[n3]) )\n",
    "                    self.nodes[n3].sub= sub2[j:]   ##  old node loses the part in common\n",
    "                    self.nodes[n].ch[x2]= n2\n",
    "                    break                   ## continue down the tree\n",
    "                j= j+1\n",
    "            i= i+j           ## advance past part in common\n",
    "            n= n2            ## continue down the tree\n",
    "    \n",
    "    def visualize(self):\n",
    "        if len(self.nodes)==0:\n",
    "            print \"<empty>\"\n",
    "            return\n",
    "        def f(n, pre):\n",
    "            children= self.nodes[n].ch\n",
    "            if len(children)==0:\n",
    "                print \"--\", self.nodes[n].sub\n",
    "                return\n",
    "            print \"+-\", self.nodes[n].sub\n",
    "            for c in children[:-1]:\n",
    "                print pre, \"+-\",\n",
    "                f(c, pre+\" | \")\n",
    "            print pre, \"+-\",\n",
    "            f(children[-1], pre+\"  \")\n",
    "        f(0, \"\")\n",
    " \n",
    "SuffixTree(\"banana$\").visualize()"
   ]
  },
  {
   "cell_type": "markdown",
   "metadata": {},
   "source": [
    "# Suffix Array"
   ]
  },
  {
   "cell_type": "code",
   "execution_count": 77,
   "metadata": {},
   "outputs": [
    {
     "name": "stdout",
     "output_type": "stream",
     "text": [
      "[5, 3, 1, 0, 4, 2]\n",
      "pattern nan in text banana found at index: 2\n"
     ]
    }
   ],
   "source": [
    "## it is a sorted array of all suffixes of a given string (https://cp-algorithms.com/string/suffix-array.html)\n",
    "## usage: pattern searching, longest repeated substring, longest common substring, longest palindrome\n",
    "def build(s):\n",
    "    suffixes= [(s[i:], i) for i in range(len(s))]    # get all suffixes with index\n",
    "    suffixes.sort(key=lambda x: x[0])              \n",
    "    return [s[1] for s in suffixes]      # return sorted indices\n",
    "\n",
    "def search(pat, text, suffArr, n):\n",
    "    l,r,m = 0,n-1,len(pat)\n",
    "    while l<=r:  # binary search in suffArr\n",
    "        mid= l+(r-l)//2\n",
    "        if pat == text[suffArr[mid]:suffArr[mid]+m]: return suffArr[mid]\n",
    "        elif pat < text[suffArr[mid]:suffArr[mid]+m]: r= mid-1\n",
    "        else: l= mid+1\n",
    "    return -1\n",
    "\n",
    "text= 'banana'\n",
    "pat= 'nan'\n",
    "suffArr= build(text)\n",
    "print suffArr\n",
    "print 'pattern', pat, 'in text', text, 'found at index:', search(pat, text, suffArr, len(text))\n"
   ]
  },
  {
   "cell_type": "markdown",
   "metadata": {},
   "source": [
    "# Binary Search for first and last occurences"
   ]
  },
  {
   "cell_type": "code",
   "execution_count": 49,
   "metadata": {},
   "outputs": [
    {
     "name": "stdout",
     "output_type": "stream",
     "text": [
      "First and Last occurrences of  2 : 1 4\n"
     ]
    }
   ],
   "source": [
    "def first(arr, low, high, x, n):\n",
    "    if high>=low: \n",
    "        mid= low+(high-low)//2\n",
    "        if (mid==0 or x>arr[mid-1]) and arr[mid]==x: return mid \n",
    "        elif x>arr[mid]: return first(arr, (mid+1), high, x, n) \n",
    "        else: return first(arr, low, (mid - 1), x, n)\n",
    "    return -1\n",
    "\n",
    "def last(arr, low, high, x, n): \n",
    "    if high>=low: \n",
    "        mid= low+(high-low)//2\n",
    "        if (mid==n-1 or x<arr[mid+1]) and arr[mid]==x: return mid \n",
    "        elif x<arr[mid]: return last(arr, low, (mid-1), x, n) \n",
    "        else: return last(arr, (mid+1), high, x, n) \n",
    "    return -1\n",
    "\n",
    "arr= [1, 2, 2, 2, 2, 3, 4, 7, 8, 8] \n",
    "n= len(arr)  \n",
    "x= 2\n",
    "print 'First and Last occurrences of ', x, ':', first(arr, 0, n - 1, x, n), last(arr, 0, n - 1, x, n)"
   ]
  },
  {
   "cell_type": "markdown",
   "metadata": {},
   "source": [
    "# Merge Sort"
   ]
  },
  {
   "cell_type": "code",
   "execution_count": 5,
   "metadata": {},
   "outputs": [
    {
     "name": "stdout",
     "output_type": "stream",
     "text": [
      "[12, 11, 13, 5, 6, 7]\n",
      "[5, 6, 7, 11, 12, 13]\n"
     ]
    }
   ],
   "source": [
    "def mergeSort(arr):\n",
    "    if len(arr)>1: \n",
    "        mid= len(arr)//2\n",
    "        L= arr[:mid] \n",
    "        R= arr[mid:] \n",
    "        mergeSort(L)\n",
    "        mergeSort(R)\n",
    "        \n",
    "        i,j,k= 0,0,0\n",
    "        while i<len(L) and j<len(R): \n",
    "            if L[i]<R[j]: \n",
    "                arr[k]= L[i] \n",
    "                i=i+1\n",
    "            else: \n",
    "                arr[k]= R[j] \n",
    "                j=j+1\n",
    "            k=k+1          \n",
    "        while i<len(L): \n",
    "            arr[k]= L[i] \n",
    "            i=i+1\n",
    "            k=k+1\n",
    "        while j<len(R): \n",
    "            arr[k]= R[j] \n",
    "            j=j+1\n",
    "            k=k+1\n",
    "\n",
    "arr= [12, 11, 13, 5, 6, 7]\n",
    "print arr \n",
    "mergeSort(arr)\n",
    "print arr"
   ]
  },
  {
   "cell_type": "markdown",
   "metadata": {},
   "source": [
    "# Quick Sort"
   ]
  },
  {
   "cell_type": "code",
   "execution_count": 7,
   "metadata": {},
   "outputs": [
    {
     "name": "stdout",
     "output_type": "stream",
     "text": [
      "[12, 11, 13, 5, 6, 7]\n",
      "[5, 6, 7, 11, 12, 13]\n"
     ]
    }
   ],
   "source": [
    "def partition(arr, low, high): \n",
    "    i= low-1              ## index of smaller element \n",
    "    pivot= arr[high]      ## pivot \n",
    "    for j in xrange(low,high):\n",
    "        if arr[j]<pivot:\n",
    "            i= i+1 \n",
    "            arr[i],arr[j]= arr[j],arr[i]  ## swap\n",
    "    arr[i+1],arr[high] = arr[high],arr[i+1] \n",
    "    return i+1 \n",
    "\n",
    "def quickSort(arr, low, high): \n",
    "    if low<high:\n",
    "        pi= partition(arr,low,high) \n",
    "        quickSort(arr, low, pi-1) \n",
    "        quickSort(arr, pi+1, high) \n",
    "        \n",
    "arr= [12, 11, 13, 5, 6, 7]\n",
    "print arr \n",
    "quickSort(arr, 0, len(arr)-1)\n",
    "print arr"
   ]
  },
  {
   "cell_type": "markdown",
   "metadata": {},
   "source": [
    "# Quick Select (kth order stats)"
   ]
  },
  {
   "cell_type": "code",
   "execution_count": 13,
   "metadata": {},
   "outputs": [
    {
     "name": "stdout",
     "output_type": "stream",
     "text": [
      "[10, 4, 5, 8, 6, 11, 26] 3 6\n"
     ]
    }
   ],
   "source": [
    "def partition(arr, low, high): \n",
    "    i= low-1              ## index of smaller element \n",
    "    pivot= arr[high]      ## pivot \n",
    "    for j in xrange(low,high):\n",
    "        if arr[j]<pivot:\n",
    "            i= i+1 \n",
    "            arr[i],arr[j]= arr[j],arr[i]  ## swap\n",
    "    arr[i+1],arr[high] = arr[high],arr[i+1] \n",
    "    return i+1 \n",
    "\n",
    "def kthSmallest(arr, l, r, k):\n",
    "    if k>0 and k<=r-l+1:\n",
    "        index= partition(arr, l, r)\n",
    "        if index-l == k-1: return arr[index]       ## position is same as k\n",
    "        if index-l > k-1: return kthSmallest(arr, l, index-1, k)  ## recur left subarray\n",
    "        else: return kthSmallest(arr, index+1, r, k-index+l-1)    ## recur left subarray\n",
    "    return -1 \n",
    "\n",
    "arr= [10, 4, 5, 8, 6, 11, 26]\n",
    "k= 3\n",
    "print arr, k, kthSmallest(arr, 0, len(arr)-1, k) "
   ]
  },
  {
   "cell_type": "markdown",
   "metadata": {},
   "source": [
    "# DFS: recursive"
   ]
  },
  {
   "cell_type": "code",
   "execution_count": 7,
   "metadata": {},
   "outputs": [
    {
     "name": "stdout",
     "output_type": "stream",
     "text": [
      "{1: set([2, 3]), 2: set([1, 4, 5]), 3: set([1, 6]), 4: set([2]), 5: set([2, 6]), 6: set([3, 5])}\n",
      "1 2 4 5 6 3\n"
     ]
    }
   ],
   "source": [
    "g= { 1:set([2,3]), 2:set([1,4,5]), 3:set([1,6]), 4:set([2]), 5:set([2,6]), 6:set([3,5]) }\n",
    "print g\n",
    "\n",
    "visited= [False]*(max(g)+1)        ## initialize visited as false for each node\n",
    "def dfsRecursive(graph, start): \n",
    "    print start,                ## work on this vertex \n",
    "    visited[start]=True             \n",
    "    for v in graph[start]:      \n",
    "        if not visited[v]:               ## each neighbor of v if not visited\n",
    "            dfsRecursive(graph, v)       ## call dfs from v\n",
    "\n",
    "dfsRecursive(g,1)"
   ]
  },
  {
   "cell_type": "markdown",
   "metadata": {},
   "source": [
    "# DFS: stack "
   ]
  },
  {
   "cell_type": "code",
   "execution_count": 12,
   "metadata": {},
   "outputs": [
    {
     "name": "stdout",
     "output_type": "stream",
     "text": [
      "{1: set([2, 3]), 2: set([1, 4, 5]), 3: set([1, 6]), 4: set([2]), 5: set([2, 6]), 6: set([3, 5])}\n",
      "1 3 6 5 2 4\n"
     ]
    }
   ],
   "source": [
    "g= { 1:set([2,3]), 2:set([1,4,5]), 3:set([1,6]), 4:set([2]), 5:set([2,6]), 6:set([3,5]) }\n",
    "print g\n",
    "       \n",
    "def dfsIterative(graph, start): \n",
    "    visited= [False]*(max(g)+1)   ## initialize visited as false for each node\n",
    "    stack= [start]                ## push start in stack\n",
    "    while stack:\n",
    "        vertex= stack.pop()       ## pop from stack\n",
    "        if not visited[vertex]:\n",
    "            visited[vertex]=True \n",
    "            print vertex,              ## work on this vertex \n",
    "            for v in graph[vertex]:\n",
    "                if not visited[v]:      ## each neighbor of v if not visited\n",
    "                    stack.append(v)     ## push v in stack\n",
    "\n",
    "dfsIterative(g,1)"
   ]
  },
  {
   "cell_type": "markdown",
   "metadata": {},
   "source": [
    "# BFS: queue"
   ]
  },
  {
   "cell_type": "code",
   "execution_count": 14,
   "metadata": {},
   "outputs": [
    {
     "name": "stdout",
     "output_type": "stream",
     "text": [
      "{1: set([2, 3]), 2: set([1, 4, 5]), 3: set([1, 6]), 4: set([2]), 5: set([2, 6]), 6: set([3, 5])}\n",
      "1 2 3 4 5 6\n"
     ]
    }
   ],
   "source": [
    "g= { 1:set([2,3]), 2:set([1,4,5]), 3:set([1,6]), 4:set([2]), 5:set([2,6]), 6:set([3,5]) }\n",
    "print g\n",
    "       \n",
    "def bfsIterative(graph, start): \n",
    "    visited= [False]*(max(g)+1)   ## initialize visited as false for each node\n",
    "    queue= [start]                ## enqueue start\n",
    "    while queue:\n",
    "        vertex= queue.pop(0)       ## dequeue vertex\n",
    "        if not visited[vertex]:\n",
    "            visited[vertex]=True \n",
    "            print vertex,              ## work on this vertex \n",
    "            for v in graph[vertex]:\n",
    "                if not visited[v]:      ## each neighbor of v if not visited\n",
    "                    queue.append(v)     ## enqueue v\n",
    "\n",
    "bfsIterative(g,1)"
   ]
  },
  {
   "cell_type": "markdown",
   "metadata": {},
   "source": [
    "# Connected Componets of graph"
   ]
  },
  {
   "cell_type": "code",
   "execution_count": 18,
   "metadata": {},
   "outputs": [
    {
     "name": "stdout",
     "output_type": "stream",
     "text": [
      "{0: set([1, 5]), 1: set([0, 2]), 2: set([1]), 3: set([4]), 4: set([3]), 5: set([0])}\n",
      "[[0, 5, 1, 2], [3, 4]]\n"
     ]
    }
   ],
   "source": [
    "g= { 0:set([1,5]), 1:set([0,2]), 2:set([1]), 3:set([4]), 4:set([3]), 5:set([0]) }\n",
    "print g\n",
    "       \n",
    "def dfsIterative(graph, start, visited): \n",
    "    localc= []                  ## this component\n",
    "    stack= [start]              ## push start\n",
    "    while stack:\n",
    "        vertex= stack.pop()       ## pop from stack\n",
    "        if not visited[vertex]:\n",
    "            visited[vertex]=True     ## visit vertex \n",
    "            localc.append(vertex)    ## add vertex to this component\n",
    "            for v in graph[vertex]:\n",
    "                if not visited[v]:      ## each neighbor of v if not visited\n",
    "                    stack.append(v)     ## push v in stack\n",
    "    return localc       \n",
    "\n",
    "def connected_componenets(graph):\n",
    "    cc=[]\n",
    "    visited= [False]*(max(graph)+1)   ## initialize visited as false for each node\n",
    "    for v in xrange(max(graph)+1):\n",
    "        if not visited[v]:           ## each vertex of graph if not visited\n",
    "            cc.append(dfsIterative(graph, v, visited))  ## call DFS from vertex\n",
    "    print cc \n",
    "            \n",
    "connected_componenets(g)"
   ]
  },
  {
   "cell_type": "markdown",
   "metadata": {},
   "source": [
    "# Single source distance with BFS"
   ]
  },
  {
   "cell_type": "code",
   "execution_count": 23,
   "metadata": {},
   "outputs": [
    {
     "name": "stdout",
     "output_type": "stream",
     "text": [
      "{0: set([1, 5]), 1: set([0, 2]), 2: set([1]), 3: set([4]), 4: set([3]), 5: set([0])}\n",
      "{0: 0, 1: 1, 2: 2, 3: None, 4: None, 5: 1}\n"
     ]
    }
   ],
   "source": [
    "g= { 0:set([1,5]), 1:set([0,2]), 2:set([1]), 3:set([4]), 4:set([3]), 5:set([0]) }\n",
    "print g\n",
    "       \n",
    "def singleSourceDistance(graph, start): \n",
    "    distances= dict.fromkeys([x for x in g])   ## init output\n",
    "    visited= [False]*(max(g)+1)     ## init visited as false for each node\n",
    "    queue= [start]        \n",
    "    c1= 1                          ## count of vertices in queue\n",
    "    c2= 0                          ## count of vertices to be added\n",
    "    d= 0                          ## distance as 0\n",
    "    while queue:\n",
    "        while c1:\n",
    "            vertex= queue.pop(0)       ## dequeue vertex\n",
    "            c1= c1-1 \n",
    "            if not visited[vertex]:\n",
    "                visited[vertex]=True \n",
    "                distances[vertex] = d    ## make d of visited\n",
    "                for v in graph[vertex]:\n",
    "                    if not visited[v]:      ## each neighbor of v if not visited\n",
    "                        queue.append(v)     ## enqueue v\n",
    "                        c2= c2+1\n",
    "        if c1==0: d= d+1         ## increase distance\n",
    "        c1= c2\n",
    "        c2= 0\n",
    "    print distances\n",
    "\n",
    "singleSourceDistance(g,0)"
   ]
  },
  {
   "cell_type": "markdown",
   "metadata": {},
   "source": [
    "# Lowest Common Ancestor: Binary Tree"
   ]
  },
  {
   "cell_type": "code",
   "execution_count": 44,
   "metadata": {},
   "outputs": [
    {
     "name": "stdout",
     "output_type": "stream",
     "text": [
      "LCA of 4 and 5 is 2\n",
      "LCA of 3 and 4 is 1\n"
     ]
    }
   ],
   "source": [
    "class Node: \n",
    "    def __init__(self, key): \n",
    "        self.key = key  \n",
    "        self.left = None\n",
    "        self.right = None\n",
    "    \n",
    "def LCA_binary_tree(root, n1, n2): \n",
    "    if root is None: return None\n",
    "    if root.key == n1 or root.key == n2: return root       ## if n1 or n2 is root, LCA is root\n",
    "    left_lca = LCA_binary_tree(root.left, n1, n2)          ## recurse in left subtree\n",
    "    right_lca = LCA_binary_tree(root.right, n1, n2)        ## recurse in right subtree\n",
    "    if left_lca and right_lca: return root                 ## if both exist, LCA is root\n",
    "    return left_lca if left_lca is not None else right_lca   ## otherwise return which exists   \n",
    "\n",
    "root = Node(1) \n",
    "root.left = Node(2) \n",
    "root.right = Node(3) \n",
    "root.left.left = Node(4) \n",
    "root.left.right = Node(5) \n",
    "root.right.left = Node(6) \n",
    "root.right.right = Node(7) \n",
    "print 'LCA of 4 and 5 is', LCA_binary_tree(root, 4, 5).key \n",
    "print 'LCA of 3 and 4 is', LCA_binary_tree(root, 3, 4).key \n"
   ]
  },
  {
   "cell_type": "markdown",
   "metadata": {},
   "source": [
    "# Lowest Common Ancestor: Binary Search Tree"
   ]
  },
  {
   "cell_type": "code",
   "execution_count": 30,
   "metadata": {},
   "outputs": [
    {
     "name": "stdout",
     "output_type": "stream",
     "text": [
      "LCA of 4 and 5 is 5\n",
      "LCA of 1 and 6 is 3\n"
     ]
    }
   ],
   "source": [
    "class Node: \n",
    "    def __init__(self, key): \n",
    "        self.key = key  \n",
    "        self.left = None\n",
    "        self.right = None\n",
    "    \n",
    "def LCA_binary_search_tree(root, n1, n2): \n",
    "    if root is None: return None\n",
    "    if root.key> n1 and root.key> n2: return LCA_binary_search_tree(root.left, n1, n2) # both smaller than root, left\n",
    "    if root.key< n1 and root.key< n2: return LCA_binary_search_tree(root.right, n1, n2) # both larger than root, right\n",
    "    return root   \n",
    "\n",
    "root = Node(3) \n",
    "root.left = Node(2) \n",
    "root.left.left = Node(1) \n",
    "root.right = Node(5) \n",
    "root.right.left = Node(4) \n",
    "root.right.right = Node(6) \n",
    "root.right.right.right = Node(7)  \n",
    "print 'LCA of 4 and 5 is', LCA_binary_search_tree(root, 4, 5).key \n",
    "print 'LCA of 1 and 6 is', LCA_binary_search_tree(root, 1, 6).key "
   ]
  },
  {
   "cell_type": "markdown",
   "metadata": {},
   "source": [
    "# Dynamic Programming: Matrix chain multiplication"
   ]
  },
  {
   "cell_type": "code",
   "execution_count": 26,
   "metadata": {},
   "outputs": [
    {
     "name": "stdout",
     "output_type": "stream",
     "text": [
      "[1, 2, 3, 4] 18\n"
     ]
    }
   ],
   "source": [
    "## MatrixChainOrder(p,i,j)= min{for all k, MatrixChainOrder(p,i,k) + MatrixChainOrder(p,k+1,j) + p[i-1]*p[k]*p[j]} \n",
    "\n",
    "import sys\n",
    "def MatrixChainOrder(p, n): \n",
    "    m= [[0 for x in range(n)] for x in range(n)] \n",
    "    ## m[i,j] is minimum number of multiplications to compute the matrix A[i..j]\n",
    "    for i in range(1,n): m[i][i]= 0\n",
    "    for L in range(2,n): \n",
    "        for i in range(n-L+1): \n",
    "            j= i+L-1\n",
    "            m[i][j]= sys.maxint \n",
    "            for k in range(i,j): \n",
    "                m[i][j] = min(m[i][j], m[i][k] + m[k+1][j] + p[i-1]*p[k]*p[j])\n",
    "    return m[1][n-1] \n",
    "\n",
    "arr= [1, 2, 3 ,4]\n",
    "print arr, MatrixChainOrder(arr, len(arr))"
   ]
  },
  {
   "cell_type": "markdown",
   "metadata": {},
   "source": [
    "# Dynamic Programming: Coin change"
   ]
  },
  {
   "cell_type": "code",
   "execution_count": 29,
   "metadata": {},
   "outputs": [
    {
     "name": "stdout",
     "output_type": "stream",
     "text": [
      "[1, 2, 3] 6 7\n"
     ]
    }
   ],
   "source": [
    "def count(S, val): \n",
    "    table= [0]*(val+1)    ## table[i] will be the number of solutions for value i \n",
    "    table[0]= 1        ## one way for given value 0\n",
    "    for i in xrange(len(S)): \n",
    "        for j in xrange(S[i], val+1): \n",
    "            table[j] += table[j-S[i]] ## for each coin, update ways to make values more than it\n",
    "    return table[val] \n",
    "\n",
    "arr= [1, 2, 3] \n",
    "val= 6 \n",
    "print arr, val, count(arr, val)"
   ]
  },
  {
   "cell_type": "markdown",
   "metadata": {},
   "source": [
    "# Dynamic Programming: Binary Knapsack"
   ]
  },
  {
   "cell_type": "code",
   "execution_count": 32,
   "metadata": {},
   "outputs": [
    {
     "name": "stdout",
     "output_type": "stream",
     "text": [
      "[10, 20, 30] [60, 100, 120] 50 220\n"
     ]
    }
   ],
   "source": [
    "## knapSack(W,wt,val,n) = max( val[n-1]+knapSack(W-wt[n-1],wt,val,n-1), knapSack(W,wt,val,n-1) )\n",
    "\n",
    "def knapSack(W, wt, val):\n",
    "    n= len(wt)\n",
    "    K= [[0 for x in range(W+1)] for x in range(n+1)] \n",
    "    for i in range(n+1):     ## for each weight\n",
    "        for w in range(W+1):    ## for each waight value\n",
    "            if i==0 or w==0: K[i][w]= 0   ## if no weights or weight value is 0\n",
    "            elif wt[i-1] <= w: K[i][w]= max(val[i-1]+K[i-1][w-wt[i-1]], K[i-1][w]) \n",
    "            else: K[i][w]= K[i-1][w]\n",
    "    return K[n][W] \n",
    "  \n",
    "val = [60, 100, 120] \n",
    "wt = [10, 20, 30] \n",
    "W = 50 \n",
    "print wt, val, W, knapSack(W, wt, val)"
   ]
  },
  {
   "cell_type": "markdown",
   "metadata": {},
   "source": [
    "# Dynamic Programming: Longest Increasing Subsequence"
   ]
  },
  {
   "cell_type": "code",
   "execution_count": 33,
   "metadata": {},
   "outputs": [
    {
     "name": "stdout",
     "output_type": "stream",
     "text": [
      "[10, 22, 9, 33, 21, 50, 41, 60] 5\n"
     ]
    }
   ],
   "source": [
    "def lis(arr): \n",
    "    n= len(arr) \n",
    "    lis = [1]*n    ## LIS of one item is 1\n",
    "    for i in xrange(n):      \n",
    "        for j in range(i): \n",
    "            if arr[i]>arr[j]: lis[i]= max(lis[i], lis[j]+1)  ## got increasing subsequence\n",
    "    return max(lis)     ## max of all subsequnces\n",
    "\n",
    "arr = [10, 22, 9, 33, 21, 50, 41, 60] \n",
    "print arr, lis(arr) "
   ]
  },
  {
   "cell_type": "markdown",
   "metadata": {},
   "source": [
    "# Kadane's algorithm for Max Sum Subarray"
   ]
  },
  {
   "cell_type": "code",
   "execution_count": 45,
   "metadata": {},
   "outputs": [
    {
     "name": "stdout",
     "output_type": "stream",
     "text": [
      "7\n"
     ]
    }
   ],
   "source": [
    "def maxSumSubarray(arr):   \n",
    "    local_max= 0\n",
    "    global_max= -(2**32)\n",
    "    for i in xrange(len(arr)):\n",
    "        local_max= max(arr[i], local_max+arr[i])  ## dynamic programming\n",
    "        global_max= max(global_max, local_max)\n",
    "    return global_max \n",
    "\n",
    "print maxSumSubarray([-2, -3, 4, -1, -2, 1, 5, -3])"
   ]
  },
  {
   "cell_type": "markdown",
   "metadata": {},
   "source": [
    "# Josephus problem"
   ]
  },
  {
   "cell_type": "code",
   "execution_count": 36,
   "metadata": {},
   "outputs": [
    {
     "name": "stdout",
     "output_type": "stream",
     "text": [
      "14 2 13\n"
     ]
    }
   ],
   "source": [
    "## https://en.wikipedia.org/wiki/Josephus_problem\n",
    "## f(2j)= 2*f(j)-1   f(2j+1)=2*f(j)+1\n",
    "def josephus(n, k):\n",
    "    if n==1: return 1\n",
    "    else: return ( josephus(n-1,k) + k-1 )%n + 1\n",
    "\n",
    "n= 14\n",
    "k= 2\n",
    "print n, k, josephus(n, k)"
   ]
  },
  {
   "cell_type": "markdown",
   "metadata": {},
   "source": [
    "# GCD and LCM"
   ]
  },
  {
   "cell_type": "code",
   "execution_count": 63,
   "metadata": {},
   "outputs": [
    {
     "name": "stdout",
     "output_type": "stream",
     "text": [
      "GCD of 10 and 2:  2\n",
      "GCD of 4 and 6:  2\n",
      "LCM of 4 and 6:  12\n"
     ]
    }
   ],
   "source": [
    "from fractions import gcd \n",
    "g= gcd(10,2)\n",
    "print 'GCD of 10 and 2: ', g\n",
    "\n",
    "def fun_gcd(a, b):\n",
    "    while b: a,b = b,a%b\n",
    "    return a\n",
    "def fun_lcm(a, b):\n",
    "    return (a*b)//fun_gcd(a,b)\n",
    "\n",
    "print 'GCD of 4 and 6: ', fun_gcd(4,6)\n",
    "print 'LCM of 4 and 6: ', fun_lcm(4,6)"
   ]
  },
  {
   "cell_type": "markdown",
   "metadata": {},
   "source": [
    "# Sieve of Eratosthenes to generate primes "
   ]
  },
  {
   "cell_type": "code",
   "execution_count": 64,
   "metadata": {},
   "outputs": [
    {
     "name": "stdout",
     "output_type": "stream",
     "text": [
      "[2, 3, 5, 7, 11, 13, 17, 19, 23, 29, 31, 37, 41, 43, 47, 53, 59, 61, 67, 71, 73, 79, 83, 89, 97]\n"
     ]
    }
   ],
   "source": [
    "def primes (n):\n",
    "    sieve= [True] * (n//2)\n",
    "    for i in range(3,int(n**0.5)+1,2):\n",
    "        if sieve[i//2]:\n",
    "            sieve[i*i//2::i]= [False] * ((n-i*i-1)//(2*i)+1)\n",
    "    return [2] + [2*i+1 for i in range(1,n//2) if sieve[i]]\n",
    "\n",
    "print primes(100)"
   ]
  },
  {
   "cell_type": "markdown",
   "metadata": {},
   "source": [
    "# Backtracking: N queens problem"
   ]
  },
  {
   "cell_type": "code",
   "execution_count": 21,
   "metadata": {},
   "outputs": [
    {
     "name": "stdout",
     "output_type": "stream",
     "text": [
      "[1, 0, 0, 0, 0, 0, 0, 0]\n",
      "[0, 0, 0, 0, 1, 0, 0, 0]\n",
      "[0, 0, 0, 0, 0, 0, 0, 1]\n",
      "[0, 0, 0, 0, 0, 1, 0, 0]\n",
      "[0, 0, 1, 0, 0, 0, 0, 0]\n",
      "[0, 0, 0, 0, 0, 0, 1, 0]\n",
      "[0, 1, 0, 0, 0, 0, 0, 0]\n",
      "[0, 0, 0, 1, 0, 0, 0, 0]\n"
     ]
    }
   ],
   "source": [
    "N= 8    ## no of queens \n",
    "board = [[0]*N for _ in range(N)]\n",
    "def is_attack(i, j):\n",
    "    for k in xrange(N):    ## row and cols\n",
    "        if board[i][k]==1 or board[k][j]==1: return True\n",
    "    for k in xrange(N):    ## diagonals\n",
    "        for l in xrange(N):\n",
    "            if k+l==i+j or k-l==i-j:\n",
    "                if board[k][l]==1: return True\n",
    "    return False\n",
    "\n",
    "def N_queen(n):\n",
    "    if n==0: return True\n",
    "    for i in xrange(N):\n",
    "        for j in xrange(N):\n",
    "            if not is_attack(i,j) and not board[i][j]:\n",
    "                board[i][j]= 1\n",
    "                if N_queen(n-1)==True: return True\n",
    "                board[i][j]= 0\n",
    "    return False\n",
    "\n",
    "N_queen(N)\n",
    "for row in board: print row"
   ]
  },
  {
   "cell_type": "markdown",
   "metadata": {},
   "source": [
    "# Tree Traversals - Inorder + Preorder + Postorder"
   ]
  },
  {
   "cell_type": "code",
   "execution_count": 1,
   "metadata": {},
   "outputs": [
    {
     "name": "stdout",
     "output_type": "stream",
     "text": [
      "4\n",
      "2\n",
      "5\n",
      "1\n",
      "3\n",
      "6\n",
      "Inorder None\n",
      "1\n",
      "4\n",
      "2\n",
      "5\n",
      "3\n",
      "6\n",
      "Preorder None\n",
      "4\n",
      "5\n",
      "2\n",
      "6\n",
      "3\n",
      "1\n",
      "Postorder None\n"
     ]
    }
   ],
   "source": [
    "class TreeNode:\n",
    "    def __init__(self, val):\n",
    "        self.val = val\n",
    "        self.left = None\n",
    "        self.right = None\n",
    "\n",
    "\n",
    "def inorder(root: TreeNode):\n",
    "    if not root:\n",
    "        return\n",
    "    inorder(root.left)\n",
    "    print(root.val)\n",
    "    inorder(root.right)\n",
    "\n",
    "\n",
    "def preorder(root: TreeNode):\n",
    "    if not root:\n",
    "        return\n",
    "    print(root.val)\n",
    "    inorder(root.left)\n",
    "    inorder(root.right)\n",
    "\n",
    "\n",
    "def postorder(root: TreeNode):\n",
    "    if not root:\n",
    "        return\n",
    "    postorder(root.left)\n",
    "    postorder(root.right)\n",
    "    print(root.val)\n",
    "\n",
    "\n",
    "if __name__ == \"__main__\":\n",
    "    root = TreeNode(1)\n",
    "    root.left = TreeNode(2)\n",
    "    root.right = TreeNode(3)\n",
    "    root.left.left = TreeNode(4)\n",
    "    root.left.right = TreeNode(5)\n",
    "    root.right.right = TreeNode(6)\n",
    "\n",
    "\n",
    "    '''\n",
    "                    1\n",
    "\n",
    "            2               3\n",
    "        4       5               6\n",
    "    '''\n",
    "\n",
    "\n",
    "    print('Inorder', inorder(root))\n",
    "    print('Preorder', preorder(root))\n",
    "    print('Postorder', postorder(root))\n",
    "\n"
   ]
  },
  {
   "cell_type": "markdown",
   "metadata": {},
   "source": [
    "# Maximum Vote Algorithm"
   ]
  },
  {
   "cell_type": "code",
   "execution_count": 5,
   "metadata": {},
   "outputs": [
    {
     "name": "stdout",
     "output_type": "stream",
     "text": [
      "3\n"
     ]
    }
   ],
   "source": [
    "def majorityElement(nums):\n",
    "    major = nums[0]\n",
    "    count = 1\n",
    "    for a in nums[1:]:\n",
    "        if count == 0:\n",
    "            major = a\n",
    "            count += 1\n",
    "        elif major == a:\n",
    "            count += 1\n",
    "        else:\n",
    "            count -= 1\n",
    "    return major\n",
    "\n",
    "print(majorityElement([1,2,1,2,3,3,3,3,4,3,3]))\n"
   ]
  },
  {
   "cell_type": "code",
   "execution_count": null,
   "metadata": {},
   "outputs": [],
   "source": []
  }
 ],
 "metadata": {
  "kernelspec": {
   "display_name": "Python 3",
   "language": "python",
   "name": "python3"
  },
  "language_info": {
   "codemirror_mode": {
    "name": "ipython",
    "version": 3
   },
   "file_extension": ".py",
   "mimetype": "text/x-python",
   "name": "python",
   "nbconvert_exporter": "python",
   "pygments_lexer": "ipython3",
   "version": "3.8.1"
  }
 },
 "nbformat": 4,
 "nbformat_minor": 2
}
