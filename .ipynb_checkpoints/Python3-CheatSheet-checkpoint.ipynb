{
 "cells": [
  {
   "cell_type": "markdown",
   "metadata": {},
   "source": [
    "## Difference between Python2 and Python3"
   ]
  },
  {
   "cell_type": "markdown",
   "metadata": {},
   "source": [
    "Almost both are same except:\n",
    "1. in Python3 function 'print' is used with braces, but in Python2 function 'print' is used without braces.\n",
    "2. raw_input() is used in Python2. Python3 uses input() instead of raw_input()\n",
    "3. xrange() is a function only in Python2. range() is available in both Python2 and Python3.\n",
    "4. printing array read by map in Python2 prints its content, but in Python3 it prints its address."
   ]
  },
  {
   "cell_type": "markdown",
   "metadata": {},
   "source": [
    "## Read Input"
   ]
  },
  {
   "cell_type": "code",
   "execution_count": 23,
   "metadata": {},
   "outputs": [
    {
     "name": "stdout",
     "output_type": "stream",
     "text": [
      "5\n",
      "abc xyz\n",
      "10 20 30\n",
      "delhi,pune,noida\n",
      "5\n",
      "abc xyz\n",
      "<map object at 0x0000022A5CA08208>\n",
      "delhi pune noida\n"
     ]
    }
   ],
   "source": [
    "## input() is used to read a line. By default it is string. Python2 uses raw_input()\n",
    "n= int(input())  ## read intger  \n",
    "s= str(input())  ## read string\n",
    "arr= map(int, input().split()) ## map is used to read array of integers\n",
    "a,b,c= map(str, input().split(',')) ## read comma separated three strings\n",
    "print(n)  \n",
    "print(s)\n",
    "print(arr) ## python2 will print of arr of content but python3 will print its base address\n",
    "print(a,b,c)"
   ]
  },
  {
   "cell_type": "code",
   "execution_count": 1,
   "metadata": {},
   "outputs": [
    {
     "name": "stdout",
     "output_type": "stream",
     "text": [
      "5\n",
      "<map object at 0x10d92e9a0>\n"
     ]
    }
   ],
   "source": [
    "## read from file\n",
    "f= open(\"in.txt\", \"r\") ## open file in.txt from the same folder in read mode\n",
    "n= int(f.readline().strip()) ## readline() reads a line. strip() is used to remove unnecessary spaces.\n",
    "arr= map(int, f.readline().strip().split()) ## map is used to read array\n",
    "print(n)\n",
    "print(arr)\n",
    "f.close() ## close file finally"
   ]
  },
  {
   "cell_type": "code",
   "execution_count": 2,
   "metadata": {},
   "outputs": [
    {
     "name": "stdout",
     "output_type": "stream",
     "text": [
      "\n"
     ]
    }
   ],
   "source": [
    "## read with stdin\n",
    "import sys\n",
    "k= sys.stdin.readline() ## sys.stdin is used to read from standard input. same as input()\n",
    "print(k) ## default is string"
   ]
  },
  {
   "cell_type": "markdown",
   "metadata": {},
   "source": [
    "## Write Output"
   ]
  },
  {
   "cell_type": "code",
   "execution_count": 32,
   "metadata": {},
   "outputs": [
    {
     "name": "stdout",
     "output_type": "stream",
     "text": [
      "abc\n",
      "\n",
      "abc def 20\n",
      "Value of n: 5 and of s: abc xyz\n",
      "Value is: 1.667\n"
     ]
    }
   ],
   "source": [
    "## print() is used in python3, but print is used in python2. it goes to next line after printing\n",
    "print(\"abc\")     ## prints \"abc\"\n",
    "print()        ## prints a new line\n",
    "print(\"abc\", \"def\", 20) ## prints space separated arguments\n",
    "print(\"Value of n: %d and of s: %s\" %(n,s))  ## prints with specifier in C style\n",
    "print(\"Value is: %0.3f\" %(n/3.0)) ## prints a float upto 3 places"
   ]
  },
  {
   "cell_type": "code",
   "execution_count": 34,
   "metadata": {
    "collapsed": true
   },
   "outputs": [],
   "source": [
    "## write to file\n",
    "f= open(\"out.txt\", \"w\") ## open file out.txt from the same folder in write mode, if not exists it creates file\n",
    "f.write(\"value\\n\") ## writes value in file and goes to next line because of '\\n'\n",
    "f.write(\"Value is: %0.3f\" %(5/3.0)) ## writes float into file\n",
    "f.close() ## close file finally"
   ]
  },
  {
   "cell_type": "code",
   "execution_count": 35,
   "metadata": {},
   "outputs": [
    {
     "name": "stdout",
     "output_type": "stream",
     "text": [
      "value\n"
     ]
    }
   ],
   "source": [
    "## write to stdout\n",
    "import sys\n",
    "sys.stdout.write('value\\n') ## prints value and goes to next line in standard output, same as print()"
   ]
  },
  {
   "cell_type": "markdown",
   "metadata": {},
   "source": [
    "## Arithmetic Operations"
   ]
  },
  {
   "cell_type": "code",
   "execution_count": 68,
   "metadata": {},
   "outputs": [
    {
     "name": "stdout",
     "output_type": "stream",
     "text": [
      "5.5\n",
      "5\n",
      "3\n"
     ]
    }
   ],
   "source": [
    "## All oerations are same as C except:\n",
    "print (11/2)  ## prints 5.5, purely float division\n",
    "print (11//2) ## // is used for integer division\n",
    "print (-2%5)  ## % modulus operation takes care of negative numbers"
   ]
  },
  {
   "cell_type": "code",
   "execution_count": 176,
   "metadata": {},
   "outputs": [
    {
     "name": "stdout",
     "output_type": "stream",
     "text": [
      "True\n",
      "False\n",
      "YES\n"
     ]
    }
   ],
   "source": [
    "## logical operators are: or, and, not. Return values are either True of False C uses ||, &&, !\n",
    "print (2==2 or 5!=5)\n",
    "print (not (5<7))\n",
    "print (\"YES\") if 2<3 else print(\"NO\")    ## ternary statement in python, same as (a)?b:c of C"
   ]
  },
  {
   "cell_type": "code",
   "execution_count": 70,
   "metadata": {},
   "outputs": [
    {
     "name": "stdout",
     "output_type": "stream",
     "text": [
      "4294967296\n",
      "2.0\n",
      "35\n"
     ]
    }
   ],
   "source": [
    "print (2**32)  ## ** is used for power(a,b)\n",
    "print (pow(4,0.5))  ## pow is also used for power(a,b)\n",
    "print (pow(2,32,97)) ## pow(a,b,c) calculates (a^b)%c"
   ]
  },
  {
   "cell_type": "code",
   "execution_count": 48,
   "metadata": {},
   "outputs": [
    {
     "name": "stdout",
     "output_type": "stream",
     "text": [
      "123 123.01 12345\n"
     ]
    }
   ],
   "source": [
    "n= int(\"123\")  ## int is used to convert anything to integer\n",
    "z= float(\"123.01\") ## float is used to convert anything into float\n",
    "s= str(12345)  ## str is used to convert anything into string\n",
    "print (n, z, s)"
   ]
  },
  {
   "cell_type": "code",
   "execution_count": 61,
   "metadata": {},
   "outputs": [
    {
     "name": "stdout",
     "output_type": "stream",
     "text": [
      "65 a 5 97 97.035 97 4\n"
     ]
    }
   ],
   "source": [
    "o= ord('A')  ## ord gives ASCII value of a char\n",
    "c= chr(97)    ## chr converts AsCII value to char \n",
    "diff= ord('e')-ord('a')+1  ## diff is index of character 'e' in alphabet\n",
    "z1= round(97.03457)   ## round is used to round a number upto given places, default is 0 places\n",
    "z2= round(97.03457, 3)  ## round upto given places\n",
    "import math   ## library for math functions\n",
    "z3= math.floor(97.03457)  ## floor function\n",
    "z4= math.ceil(math.pi)  ## ceiling function\n",
    "print (o, c, diff, z1, z2, z3, z4)"
   ]
  },
  {
   "cell_type": "code",
   "execution_count": 142,
   "metadata": {},
   "outputs": [
    {
     "name": "stdout",
     "output_type": "stream",
     "text": [
      "2 10 3\n"
     ]
    }
   ],
   "source": [
    "a,b = 10,2      ## comma operator assigns values in same order, used to reduce lines\n",
    "a,b = b,a         ## it will swap a and b\n",
    "z= eval(\"2+4-3\")      ## eveal() is used to evaluate any arithmetic expression in string format\n",
    "print (a,b,z)"
   ]
  },
  {
   "cell_type": "code",
   "execution_count": 154,
   "metadata": {},
   "outputs": [
    {
     "name": "stdout",
     "output_type": "stream",
     "text": [
      "YES\n"
     ]
    }
   ],
   "source": [
    "## comparison operators cannot be used directly to compare float values\n",
    "from decimal import Decimal     ## we use decimal library for most float opertaion\n",
    "if Decimal(2.92)>Decimal(2.918): print (\"YES\")  ## use Decimal() to a convert a normal float into decimal and then compare"
   ]
  },
  {
   "cell_type": "code",
   "execution_count": 4,
   "metadata": {},
   "outputs": [
    {
     "name": "stdout",
     "output_type": "stream",
     "text": [
      "44\n",
      "11.0\n",
      "15\n",
      "7\n",
      "40\n"
     ]
    }
   ],
   "source": [
    "a= [10, 12, 15, 7]\n",
    "print( sum(a) )                ## sum of array\n",
    "print( sum(a)/len(a) )          ## average of array \n",
    "print( max(a) )                ## maximum of array\n",
    "print( min(a) )                ## minimum of array\n",
    "print( max(10,20,30,40) )         ## unlike c++, max and min in python can handle more than one parameter"
   ]
  },
  {
   "cell_type": "markdown",
   "metadata": {},
   "source": [
    "## Random Numbers"
   ]
  },
  {
   "cell_type": "code",
   "execution_count": 53,
   "metadata": {},
   "outputs": [
    {
     "name": "stdout",
     "output_type": "stream",
     "text": [
      "5 0.9478653606090632 MUBCR 15908\n"
     ]
    }
   ],
   "source": [
    "import random  ## random is library of random number operations\n",
    "random.seed(7)  ## seed to to generate same random numbers each time when program is run\n",
    "n= random.randint(0, 9)   ## to generate a random integer between a and b\n",
    "p= random.uniform(0, 1)   ## to generate a random float between 0 and 1\n",
    "import string  ## string is library for string functions \n",
    "s1= \"\".join(random.choice(string.ascii_uppercase) for i in range(n))  ## random string of n capital letters. see string library\n",
    "s2= int(\"\".join(random.choice(string.digits) for i in range(n))) ## random integer of n digits. see string library\n",
    "print (n, p, s1, s2)"
   ]
  },
  {
   "cell_type": "markdown",
   "metadata": {},
   "source": [
    "## GCD and Primes"
   ]
  },
  {
   "cell_type": "code",
   "execution_count": 178,
   "metadata": {},
   "outputs": [
    {
     "name": "stdout",
     "output_type": "stream",
     "text": [
      "2\n"
     ]
    }
   ],
   "source": [
    "import math   ## gcd is in math in python3, it is in fractions library in python2\n",
    "g= math.gcd(10,2)  ## finds gcd of a and b\n",
    "print (g)\n",
    "## it uses following code internally:\n",
    "def gcd(a, b):\n",
    "    while b: a,b = b,a%b\n",
    "    return a"
   ]
  },
  {
   "cell_type": "code",
   "execution_count": 81,
   "metadata": {},
   "outputs": [
    {
     "name": "stdout",
     "output_type": "stream",
     "text": [
      "[2, 3, 5, 7, 11, 13, 17, 19, 23, 29, 31, 37, 41, 43, 47, 53, 59, 61, 67, 71, 73, 79, 83, 89, 97]\n"
     ]
    }
   ],
   "source": [
    "## sieve Of Eratosthenes to generate primes upto n \n",
    "def primes (n):\n",
    "    sieve = [True] * (n//2)\n",
    "    for i in range(3,int(n**0.5)+1,2):\n",
    "        if sieve[i//2]:\n",
    "            sieve[i*i//2::i] = [False] * ((n-i*i-1)//(2*i)+1)\n",
    "    return [2] + [2*i+1 for i in range(1,n//2) if sieve[i]]\n",
    "print (primes(100))"
   ]
  },
  {
   "cell_type": "markdown",
   "metadata": {},
   "source": [
    "## Loops"
   ]
  },
  {
   "cell_type": "code",
   "execution_count": 97,
   "metadata": {},
   "outputs": [
    {
     "name": "stdout",
     "output_type": "stream",
     "text": [
      "0 1 2 3 4 \n",
      "1 3 5 \n",
      "5 4 3 2 1 0 \n"
     ]
    }
   ],
   "source": [
    "## range is used in python3, but python2 uses range() and xrange() both\n",
    "for i in range(5): print (i, end=\" \")  ## prints from 0 to 4 ## end is used in python3. python2 uses \"print i,\"\n",
    "print()  ## needs in python3, not in python2\n",
    "for i in range(1,6,2): print (i, end=\" \") ## prints every second element from 1 to 5\n",
    "print()\n",
    "for i in range(5,-1,-1): print (i, end=\" \") ## prints from 5 to 0 in reverse order\n",
    "print()\n",
    "for i in range(10): pass  ## keyword pass is used when you just want to ignore the loop"
   ]
  },
  {
   "cell_type": "markdown",
   "metadata": {},
   "source": [
    "## Function"
   ]
  },
  {
   "cell_type": "code",
   "execution_count": 104,
   "metadata": {},
   "outputs": [
    {
     "name": "stdout",
     "output_type": "stream",
     "text": [
      "6.0 2 8.0 4\n"
     ]
    }
   ],
   "source": [
    "## def is keyword for function, even you can define another function in a function or call libraries inside a function\n",
    "def fun(a,b=2):       ## b is a parameter with default value 2 if not given  \n",
    "    import math       ## importing library local to only this function\n",
    "    c= math.sqrt(a)+b\n",
    "    return c,b       ## you can return any number of values from function provided that same should be used with function call\n",
    "firstVal,secondVal= fun(16)       ## b is not passed, firstVal and secondVal will equal to c and b respectively\n",
    "thirdVal,forthVal= fun(16,4)      ## b is passed so default value is not considered \n",
    "print (firstVal, secondVal, thirdVal, forthVal)"
   ]
  },
  {
   "cell_type": "markdown",
   "metadata": {},
   "source": [
    "## Array or List"
   ]
  },
  {
   "cell_type": "code",
   "execution_count": 107,
   "metadata": {},
   "outputs": [
    {
     "name": "stdout",
     "output_type": "stream",
     "text": [
      "['ram', 10, 20, 2.5] ['ram', 'shyam', 'geeta'] ['s', 'h', 'y', 'a', 'm']\n"
     ]
    }
   ],
   "source": [
    "a= [\"ram\", 10, 20, 2.5]            ## list a set mutiple types of elements in python  \n",
    "b= \"ram shyam geeta\".split()         ## split() splits the set of strings into list based on spaces\n",
    "c= list(\"shyam\")                 ## list() makes a list of characters of string\n",
    "print (a, b, c)"
   ]
  },
  {
   "cell_type": "code",
   "execution_count": 148,
   "metadata": {},
   "outputs": [
    {
     "name": "stdout",
     "output_type": "stream",
     "text": [
      "[]\n",
      "YES\n",
      "[0, 10, 20, 30, 40, 50, 60, 70, 80, 90]\n",
      "[0, 0, 0, 0, 0]\n",
      "[0, 10, 20, 30, 40, 50, 60, 70, 80, 90, 20]\n",
      "[1, 2, 3, 0, 10, 20, 30, 40, 50, 60, 70, 80, 90]\n",
      "[0, 10, 20, 30, 40, 50, 60, 70, 80, 90]\n",
      "[0, 10, 20, 30, 40, 50, 60, 70, 80, 90]\n",
      "[90, 80, 70, 60, 50, 40, 30, 20, 10, 0]\n",
      "[90, 80, 70, 60, 50, 40, 30, 20, 10, 0]\n",
      "<list_reverseiterator object at 0x0000022A5CB5ACC0>\n",
      "[0, 10, 20, 30, 40, 50, 60, 70, 80, 90]\n",
      "[90, 80, 70, 60, 50]\n",
      "[70, 60, 50, 40, 30]\n",
      "[60, 50, 40, 30, 20, 10, 0]\n",
      "10\n",
      "0\n",
      "[80, 70, 60, 50, 40, 30, 20, 10, 0]\n",
      "0\n",
      "70\n",
      "11\n",
      "21\n",
      "31\n",
      "YES\n"
     ]
    }
   ],
   "source": [
    "a= []            ## initialize empty list\n",
    "print(a)\n",
    "if a==[]: print (\"YES\")   ## '==' and '!=' is used to check for list equality\n",
    "a= [10*i for i in range(10)]   ## assign values with for loop\n",
    "print(a)\n",
    "b= [0]*n         ## initialize list of size n with zeroes\n",
    "print(b)\n",
    "b.append(10)      ## adds 10 as vale at the end of list\n",
    "c= a+[20]         ## concatenate lists a and [20]  ## also used for appending value in list\n",
    "print(c)\n",
    "d= [1,2,3]+a       ## concatenates lists [1,2,3] and a ## also used for prepending\n",
    "print(d)\n",
    "a.sort()          ## sorts same list\n",
    "print(a)\n",
    "e= sorted(a)            ## sorts list a and assign to e\n",
    "print(e)\n",
    "f= sorted(a, reverse=True)     ## sorts in reverse order\n",
    "print(f)\n",
    "a.reverse()          ## to reverse same list\n",
    "print(a)\n",
    "g= reversed(a)      ## reversed list is assigned to g\n",
    "print(g)\n",
    "h= a[::-1]        ## shortcut to reverse a list \n",
    "print(h)\n",
    "i= a[:5]           ## slices list from beginning upto 5-1=4th index\n",
    "print(i)\n",
    "j= a[2:7]         ## slices list from 2nd index upto 7-1=6th index\n",
    "print(j)\n",
    "k= a[3:]          ## slices list from 3rd index till end of list\n",
    "print(k)\n",
    "l= len(a)        ## len is for length of list\n",
    "print(l)\n",
    "m= a[-1]           ## gives last element of list\n",
    "print(m)\n",
    "del a[0]            ## deletes element at given index in list\n",
    "print(a)\n",
    "o= a.pop()      ## pop() returns last element of list\n",
    "print(o)\n",
    "p= a.pop(1)     ## returns element of given index \n",
    "print(p)\n",
    "for x in [11,21,31]: print(x)   ## iterate over list elemnts with 'for .. in'\n",
    "if 11 in [11,21,31]: print(\"YES\")  ## 'in' and 'not in' are used to check whether element belongs to list or not"
   ]
  },
  {
   "cell_type": "code",
   "execution_count": 116,
   "metadata": {},
   "outputs": [
    {
     "name": "stdout",
     "output_type": "stream",
     "text": [
      "[[0, 0, 0, 0, 0], [0, 0, 0, 0, 0], [0, 0, 0, 0, 0], [0, 0, 0, 0, 0], [0, 0, 0, 0, 0], [0, 0, 0, 0, 0], [0, 0, 0, 0, 0]]\n",
      "7 5\n"
     ]
    }
   ],
   "source": [
    "arr= [[0 for _ in range(5)] for _ in range(7)]  ## init 2d array of size 7*5 with all zeroes\n",
    "print(arr)\n",
    "r,c= len(arr), len(arr[0])  ## number of rows and cols\n",
    "print (r,c)"
   ]
  },
  {
   "cell_type": "markdown",
   "metadata": {},
   "source": [
    "## String"
   ]
  },
  {
   "cell_type": "code",
   "execution_count": 181,
   "metadata": {},
   "outputs": [
    {
     "name": "stdout",
     "output_type": "stream",
     "text": [
      " abc def 2233 33 332233\n",
      "YES\n",
      "YES\n",
      "2\n",
      "abcdefghijklmnopqrstuvwxyz\n",
      "0123456789\n"
     ]
    }
   ],
   "source": [
    "s1= \"\"           ## empty string\n",
    "s2= \"abc def\"        ## string can contain spaces unlike c++\n",
    "s3= ''.join(str(x) for x in [2,2,33])    ## make a string from a list\n",
    "l= len(s3)          ## length of arr\n",
    "s4= s3[2:4]            ## create substring from indices 2 upto 4-1=3 from given string\n",
    "s5= s4+s3             ## '+' is used for concatenation of strings\n",
    "print (s1, s2, s3, s4, s5)\n",
    "if s5==''.join(reversed(s5)): print(\"YES\")  ## check for palindrome. '==' and '!=' for string equality check\n",
    "if s4 in s3: print (\"YES\")   ## 'in' and 'not in' are used to check whether it is a substring of given string\n",
    "print( s3.index(s4) )         ## .index() method gives first occurance of a substr in str\n",
    "import string      ## library for string operations\n",
    "print (string.ascii_lowercase)   ## lowercase letters\n",
    "print (string.digits)         ## digits"
   ]
  },
  {
   "cell_type": "markdown",
   "metadata": {},
   "source": [
    "## Binary Search"
   ]
  },
  {
   "cell_type": "code",
   "execution_count": 1,
   "metadata": {},
   "outputs": [
    {
     "name": "stdout",
     "output_type": "stream",
     "text": [
      "3\n"
     ]
    }
   ],
   "source": [
    "def binarySearch(arr, n, x):\n",
    "    start,end = 0,n-1\n",
    "    while start<=end:\n",
    "        mid= (start+end)//2\n",
    "        if x==arr[mid]: return mid\n",
    "        elif x<arr[mid]: end= mid-1\n",
    "        else: start= mid+1\n",
    "    return -1\n",
    "arr= [10, 30, 35, 55, 70]\n",
    "print( binarySearch(arr, len(arr), 55) )"
   ]
  },
  {
   "cell_type": "markdown",
   "metadata": {},
   "source": [
    "## Sort with Lambda"
   ]
  },
  {
   "cell_type": "code",
   "execution_count": 140,
   "metadata": {},
   "outputs": [
    {
     "name": "stdout",
     "output_type": "stream",
     "text": [
      "[[17, 29, 51], [15, 22, 53], [15, 27, 54], [10, 21, 57]]\n",
      "[[10, 21, 57], [15, 22, 53], [15, 27, 54], [17, 29, 51]]\n",
      "[[17, 29, 51], [15, 22, 53], [15, 27, 54], [10, 21, 57]]\n"
     ]
    }
   ],
   "source": [
    "## lambda is used for funtional programming like in other languages\n",
    "a= [[10, 21, 57], [17, 29, 51], [15, 27, 54], [15, 22, 53]]\n",
    "b= sorted (a, key=lambda x:x[2])   ## x is a record of 'a'. it will sort 'a' based on 3rd column \n",
    "                                    ## (2nd index of each record) in ascending order\n",
    "print (b)\n",
    "c= sorted (a, key=lambda x:(x[0],x[1]))  ## sort 'a' first on 1st column in ascending order \n",
    "                                        ## then on 2nd column for tied elements in ascending order\n",
    "print (c)\n",
    "d= sorted (a, key=lambda x:(-x[0],x[1]))  ## sort 'a' first on 1st column in descending order then \n",
    "                                          ## on 2nd column for tied elements in ascending order\n",
    "print (d)"
   ]
  },
  {
   "cell_type": "markdown",
   "metadata": {},
   "source": [
    "## Set"
   ]
  },
  {
   "cell_type": "code",
   "execution_count": 163,
   "metadata": {},
   "outputs": [
    {
     "name": "stdout",
     "output_type": "stream",
     "text": [
      "YES\n",
      "[5] {1, 2, 3, 5} 4 [1, 2, 3, 5]\n",
      "1\n",
      "2\n",
      "3\n",
      "5\n",
      "{1, 2, 3, 5}\n",
      "{1, 2, 3, 5, 10}\n",
      "{10}\n"
     ]
    }
   ],
   "source": [
    "s= set()           ## init empty set\n",
    "s.add(5)                ## adds or insert 5 in set s. there is no indexing in set\n",
    "if 5 in s: print(\"YES\")   ## 'in' and 'not in' are used to check whether element is in set or not\n",
    "a= list(s)                 ## list() converts set into list\n",
    "s.remove(5)              ## removes 5 from s\n",
    "s= set([1,2,3,2,5])        ## set() creates set from input list\n",
    "l= len(s)               ## len gives size of set\n",
    "b= sorted(s)            ## returns sorted list of elements of s\n",
    "print (a, s, l, b)\n",
    "for x in s: print(x)     ## 'for..in' is used to iterate over elements of set\n",
    "s2= set(list(s)+[10])     ## make a set from another set is done via list\n",
    "print (s.intersection(s2))     ## .intersection() takes intersection of two sets\n",
    "print (s.union(s2))     ## .union() takes union of two sets\n",
    "print (s2 - s)          ## prints set difference"
   ]
  },
  {
   "cell_type": "markdown",
   "metadata": {},
   "source": [
    "## Tuple"
   ]
  },
  {
   "cell_type": "code",
   "execution_count": 168,
   "metadata": {},
   "outputs": [
    {
     "name": "stdout",
     "output_type": "stream",
     "text": [
      "YES\n",
      "(1, 2, 3, 'ram') 769419781080775049 {1, 2, 3, 5, (1, 2, 3, 'ram'), 769419781080775049}\n"
     ]
    }
   ],
   "source": [
    "## lists cannot be inseted into set. so we inset tuple which is same as list\n",
    "t= ()         ## init empty tuple. we use () instead of []\n",
    "t= (1,2,3,\"ram\")  ## a tuple of 4 values. t[0]=1 and t[3]=\"ram\"\n",
    "s.add(t)         ## add tuple into set\n",
    "if \"ram\" in t: print (\"YES\")  ## 'in' and 'not in' used to check a value inside tuple, all operations are same as list\n",
    "## sometimes tuple takes more memory to store in set. so use take 'hash' value of tuple and store it in set\n",
    "h= hash(t)    ## hash value of t. every tuple has unique hash\n",
    "s.add(h)\n",
    "print(t, h, s)"
   ]
  },
  {
   "cell_type": "markdown",
   "metadata": {},
   "source": [
    "## Dictionary"
   ]
  },
  {
   "cell_type": "code",
   "execution_count": 2,
   "metadata": {
    "scrolled": true
   },
   "outputs": [
    {
     "name": "stdout",
     "output_type": "stream",
     "text": [
      "{'a': 123, 'ram': 'b', 12: ['34', 2]} 123 b ['34', 2] 3\n",
      "YES\n",
      "a 123\n",
      "ram b\n",
      "12 ['34', 2]\n",
      "a 123\n",
      "ram b\n",
      "12 ['34', 2]\n",
      "{'ram': 'b', 12: ['34', 2]}\n"
     ]
    }
   ],
   "source": [
    "d= {}         ## or dict() to initialize a dictionary. it is same as map of C++ or hashmap of java\n",
    "d= { 'a':123, 'ram':'b', 12:['34',2] }    ## 'a' is mapped to 123, 'ram' is mapped to 'b', 12 is mapped to ['34',2]\n",
    "l= len(d)          ## number of keys in dict\n",
    "print (d, d['a'], d['ram'], d[12], l)    ## access value of a key with d[key]\n",
    "if 'a' in d: print (\"YES\")   ## 'in' and 'not in' are used to check if given key exist in dictionary\n",
    "for x in d: print (x, d[x])      ## iterate over keys and their values of dictionary\n",
    "for x,val in d.items(): print (x,val)  ## another way to iterate over keys and values in dict\n",
    "del d['a']    ## delete key 'a' from dict\n",
    "print (d)"
   ]
  },
  {
   "cell_type": "markdown",
   "metadata": {},
   "source": [
    "## Stack, Queue and Priority Queue"
   ]
  },
  {
   "cell_type": "code",
   "execution_count": 192,
   "metadata": {},
   "outputs": [
    {
     "name": "stdout",
     "output_type": "stream",
     "text": [
      "[2, 5]\n",
      "2\n",
      "5\n",
      "[2, 5]\n",
      "2\n",
      "2\n"
     ]
    }
   ],
   "source": [
    "## stack and queue can be implemented with list using append and pop methods\n",
    "st = []              ## empty stack\n",
    "st.append(2)          ## push 2 into stack\n",
    "st.append(5)          ## push 5 into stack\n",
    "print (st)          ## print stack as list\n",
    "print (len(st))      ## size of stack\n",
    "if st:               ## 'if st' checks for non-emptyness\n",
    "    print (st[-1])    ## top (last element) of stack\n",
    "    st.pop()        ## pop (delete) last element\n",
    "queue= []          ## empty queue\n",
    "queue.append(2)      ## enqueue (insert) 2 at rear\n",
    "queue.append(5)      ## enqueue (insert) 5 at rear\n",
    "print (queue)          ## print queue as list\n",
    "print (len(queue))    ## size of queue\n",
    "if queue:            ## check for empty queue\n",
    "    print (queue[0])    ## print element at front\n",
    "    queue.pop(0)          ## dequeue (delete) element at front"
   ]
  },
  {
   "cell_type": "code",
   "execution_count": 208,
   "metadata": {},
   "outputs": [
    {
     "name": "stdout",
     "output_type": "stream",
     "text": [
      "[5, 10]\n",
      "5\n",
      "10\n",
      "[10]\n",
      "5\n",
      "[1, 4, 5, 7]\n"
     ]
    }
   ],
   "source": [
    "## priority queue can be called from library 'heapq'\n",
    "import heapq          ## library for minheap\n",
    "pq= []               ## empty priority queue as list\n",
    "heapq.heappush(pq, 10)    ## insert 10 in pq, it uses minheap. if you want, maxheap insert -10\n",
    "heapq.heappush(pq, 5)   ## insert 5 in pq, it uses minheap. if you want, maxheap insert -5\n",
    "print (pq)            ## print pq in sorted order (minheap)\n",
    "for x in pq: print (x)    ## print elements of pq\n",
    "x= heapq.heappop(pq)     ## deletes minimum element\n",
    "print (pq)\n",
    "print (x)            ## prints deleted element\n",
    "pq2 = [5, 4, 1, 7]    ## list for which we want to create priority queue\n",
    "heapq.heapify(pq2)          ## heapify() will create minheap (priority queue) from the list\n",
    "print (pq2)            ## print minheap"
   ]
  },
  {
   "cell_type": "markdown",
   "metadata": {},
   "source": [
    "## Graph and Tree"
   ]
  },
  {
   "cell_type": "code",
   "execution_count": 6,
   "metadata": {},
   "outputs": [
    {
     "name": "stdout",
     "output_type": "stream",
     "text": [
      "{1: {2, 3}, 2: {1, 3}, 3: set()}\n",
      "{1: {2, 3}, 2: {1, 3}, 3: set(), 4: {5}}\n",
      "{1: {2, 3}, 2: {1, 3}, 3: set(), 4: set()}\n"
     ]
    }
   ],
   "source": [
    "## Adjacency matrix can be implimented with 2d array. Adjacency list can be implemented with dictinary and set\n",
    "G= { 1:set([2,3]), 2:set([1,3]), 3:set() }   ## directed graph with 3 nodes because 1 is connected to 3 but 3 not connected to 1\n",
    "print (G)\n",
    "if 4 not in G: G[4]= set()        ## check if node 4 is already present in graph, if not create it.\n",
    "G[4].add(5)                     ## adding edge between 4 and 5. if undirected graph, then also add between 5 and 4\n",
    "print (G)\n",
    "if 5 in G[4]: G[4].remove(5)      ## delete edge from 4 to 5, before that check if it exists\n",
    "if G[4]: del G[4]                 ## delete node 4, before that check if it exists\n",
    "print (G)"
   ]
  },
  {
   "cell_type": "code",
   "execution_count": 8,
   "metadata": {},
   "outputs": [
    {
     "name": "stdout",
     "output_type": "stream",
     "text": [
      "{1: [-1, 2, 3], 2: [1, -1, -1], 3: [1, -2]}\n",
      "{1: [-1, 2, 3], 2: [1, 4, -1], 3: [1, -2], 4: [2, -1, -1]}\n",
      "{1: [-1, 2, 3], 2: [1, -1, -1], 3: [1, -2]}\n"
     ]
    }
   ],
   "source": [
    "## tree can be also handled in the above manner. there is another way to handle binary tree\n",
    "BT= { 1:[-1,2,3], 2:[1,-1,-1], 3:[1,-1-1] }   ## a node has list of 3 values: [parent, left child, right child], -1 means missing\n",
    "print (BT)\n",
    "if 4 not in BT: \n",
    "    BT[4]= [2,-1,-1]             ## adding node 4 and making 2 its parent\n",
    "    BT[2][1]= 4                   ## making 4 as left child of 2\n",
    "print (BT)\n",
    "if 4 in BT: \n",
    "    BT[BT[4][0]][1]= -1         ## removeing info of 4 from its parent\n",
    "    del BT[4]                  ## deleting node 4 from tree\n",
    "print (BT)"
   ]
  },
  {
   "cell_type": "markdown",
   "metadata": {},
   "source": [
    "## DFS and BFS"
   ]
  },
  {
   "cell_type": "code",
   "execution_count": 12,
   "metadata": {},
   "outputs": [
    {
     "name": "stdout",
     "output_type": "stream",
     "text": [
      "{1: {2, 3}, 2: {1, 4, 5}, 3: {1, 6}, 4: {2}, 5: {2, 6}, 6: {3, 5}}\n",
      "{1, 2, 3, 4, 5, 6}\n"
     ]
    }
   ],
   "source": [
    "g= { 1:set([2,3]), 2:set([1,4,5]), 3:set([1,6]), 4:set([2]), 5:set([2,6]), 6:set([3,5]) }\n",
    "print (g)\n",
    "def dfsIterative(graph,start):                     ## iterative dfs\n",
    "    visited, stack = set(), [start]          ## visited is null, stack has start\n",
    "    while stack:                           ## while stack is not empty\n",
    "        vertex= stack.pop()                 ## pop from stack\n",
    "        if vertex not in visited:           ## if popped element is not visited\n",
    "            visited.add(vertex)               ## visit it\n",
    "            stack.extend(graph[vertex] - visited)   ## add its neighbors who are not visited\n",
    "    return visited                          ## return order of visit\n",
    "print( dfsIterative(g,1) )"
   ]
  },
  {
   "cell_type": "code",
   "execution_count": 13,
   "metadata": {},
   "outputs": [
    {
     "name": "stdout",
     "output_type": "stream",
     "text": [
      "{1, 2, 3, 4, 5, 6}\n"
     ]
    }
   ],
   "source": [
    "def dfsRecursive(graph, start, visited=None):   ## visited is initialized as null only in first recursion, not after that\n",
    "    if visited is None: visited = set()          ## visited is null object, create set\n",
    "    visited.add(start)                          ## add start to visited\n",
    "    for v in graph[start] - visited:          ## each neighbor of v who is not visited\n",
    "        dfsRecursive(graph, v, visited)                  ## call dfs from v\n",
    "    return visited                            ## return order of visit\n",
    "print( dfsRecursive(g,1) )"
   ]
  },
  {
   "cell_type": "code",
   "execution_count": 14,
   "metadata": {},
   "outputs": [
    {
     "name": "stdout",
     "output_type": "stream",
     "text": [
      "{1, 2, 3, 4, 5, 6}\n"
     ]
    }
   ],
   "source": [
    "def bfs(graph, start):                 ## bfs is used to find shortest path from a vertex\n",
    "    visited, queue = set(), [start]    ## queue is used with list       \n",
    "    while queue:                          ## while queue is not empty\n",
    "        vertex = queue.pop(0)             ## delete from element\n",
    "        if vertex not in visited:            ## if it is not visited\n",
    "            visited.add(vertex)               ## add it to visited\n",
    "            queue.extend(graph[vertex] - visited)   ## insert all its neighbors into queue who are not visited \n",
    "    return visited                       ## return order of visit\n",
    "print( bfs(g,1) )"
   ]
  },
  {
   "cell_type": "markdown",
   "metadata": {},
   "source": [
    "## Segment tree"
   ]
  },
  {
   "cell_type": "code",
   "execution_count": 20,
   "metadata": {},
   "outputs": [
    {
     "name": "stdout",
     "output_type": "stream",
     "text": [
      "[5, 18, 13, 22, 74, 100, 3, 101]\n",
      "74\n",
      "101\n",
      "22\n",
      "10\n"
     ]
    }
   ],
   "source": [
    "N= 10                    ## size of arr for which segment tree is made\n",
    "tree= [-1]*(3*N)         ## initialize tree of 3N nodes with -1 \n",
    "arr= [5, 18, 13, 22, 74, 100, 3, 101]\n",
    "def build_tree(node, a, b):   ## create segment tree to find range maximum\n",
    "    if a>b: return               ## invalid range, return\n",
    "    if a==b: \n",
    "        tree[node]= arr[a]              ## if range is a single node, create it\n",
    "        return\n",
    "    build_tree(node*2, a, (a+b)//2)      ## build left subtree\n",
    "    build_tree(node*2+1, 1+(a+b)//2, b)   ## build right subtree\n",
    "    tree[node]= max(tree[node*2],tree[node*2+1])  ## merge result of left and right, you can use sum here if want range sum\n",
    "    \n",
    "def update_tree(node, a, b, i, j, value):     ## i-j is range to update, value is value to be updated\n",
    "    if a>b or a>j or b<i: return          ## invalid range, return\n",
    "    if a==b:\n",
    "        tree[node]= value                    ## node is in the range, update it with value\n",
    "        return\n",
    "    update_tree(node*2, a, (a+b)//2, i, j, value)     ## update left subtree\n",
    "    update_tree(1+node*2, 1+(a+b)//2, b, i, j, value)  ## update right subtree\n",
    "    tree[node]= max(tree[node*2],tree[node*2+1])    ## node value will be max of left and right \n",
    "    \n",
    "def query_tree(node, a, b, i, j):\n",
    "    if a>b or a>j or b<i: return -1    ## invalid range, assuming -1 is smaller than each number in arr, unit of max function\n",
    "    if a>=i and b<=j: return tree[node]    ## node within range, return its value\n",
    "    q1= query_tree(node*2, a, (a+b)//2, i, j)  ## query on left subtree\n",
    "    q2= query_tree(1+node*2, 1+(a+b)//2, b, i, j)  ## query on left subtree\n",
    "    return max(q1,q2)               ## return value of node will be max of left and right\n",
    "\n",
    "print( arr )\n",
    "build_tree(1, 0, len(arr)-1)    ## tree node starts from 1, range is 0 to len(arr)-1\n",
    "print( query_tree(1, 0, len(arr)-1, 1, 4) )    ## find maximum in range 1 to 4\n",
    "print( query_tree(1, 0, len(arr)-1, 5, 7) )    ## find maximum in range 5 to 7\n",
    "update_tree(1, 0, len(arr)-1, 4, 7, 10)       ## make each element in range 4 to 7 as 10\n",
    "print( query_tree(1, 0, len(arr)-1, 3, 6) )    ## find maximum in range 3 to 6\n",
    "print( query_tree(1, 0, len(arr)-1, 6, 7) )    ## find maximum in range 6 to 7"
   ]
  },
  {
   "cell_type": "markdown",
   "metadata": {},
   "source": [
    "## Binary indexed tree"
   ]
  },
  {
   "cell_type": "code",
   "execution_count": 6,
   "metadata": {},
   "outputs": [
    {
     "name": "stdout",
     "output_type": "stream",
     "text": [
      "[2, 1, 1, 3, 2, 3, 4, 5, 6, 7, 8, 9]\n",
      "12\n",
      "[2, 1, 1, 9, 2, 3, 4, 5, 6, 7, 8, 9]\n",
      "5\n"
     ]
    }
   ],
   "source": [
    "## Binary indexed tree to find sum of a range of arr\n",
    "def queryBIT(tree, i):        ## query in range 0 to i\n",
    "    s= 0                      ## init sum to 0\n",
    "    i= i+1                    ## increase index as BIT starts from index 1\n",
    "    while i>0:              ## while index is valid\n",
    "        s += tree[i]          ## add sum of this node\n",
    "        i -= i & (-i)          ## go to its parent node\n",
    "    return s                ## return sum\n",
    "\n",
    "def updateBIT(tree, n, i, v):  ## v is value to be added to ith element of arr\n",
    "    i+= 1                       ## increase index as BIT starts from index 1\n",
    "    while i<=n:                  ## while index is valid\n",
    "        tree[i] += v           ## update this node\n",
    "        i += i & (-i)           ## go to its child node for update\n",
    "        \n",
    "def buildBIT(arr, n):         ## construct BIT from arr of size n\n",
    "    tree= [0]*(n+1)           ## tree has n+1 nodes initilized with 0\n",
    "    for i in range(n):          ## for each element of arr\n",
    "        updateBIT(tree, n, i, arr[i])   ## update BIT by adding arr[i] to ith element\n",
    "    return tree               ## return tree\n",
    "\n",
    "arr= [2, 1, 1, 3, 2, 3, 4, 5, 6, 7, 8, 9]\n",
    "tree= buildBIT(arr, len(arr))     ## construct BIT\n",
    "print( arr )\n",
    "print( queryBIT(tree,5) )         ## find sum of all values in range 0 to 5 of arr\n",
    "arr[3] += 6\n",
    "updateBIT(tree, len(arr), 3, 6)     ## add 6 into arr[3] and update BIT\n",
    "print( arr )               \n",
    "print( queryBIT(tree,5)-queryBIT(tree,3) )   ## find sum of all values in range 3 to 5 of arr"
   ]
  },
  {
   "cell_type": "markdown",
   "metadata": {},
   "source": [
    "## End"
   ]
  }
 ],
 "metadata": {
  "kernelspec": {
   "display_name": "Python 3",
   "language": "python",
   "name": "python3"
  },
  "language_info": {
   "codemirror_mode": {
    "name": "ipython",
    "version": 3
   },
   "file_extension": ".py",
   "mimetype": "text/x-python",
   "name": "python",
   "nbconvert_exporter": "python",
   "pygments_lexer": "ipython3",
   "version": "3.8.1"
  }
 },
 "nbformat": 4,
 "nbformat_minor": 2
}
